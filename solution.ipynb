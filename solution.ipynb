{
 "cells": [
  {
   "cell_type": "code",
   "execution_count": 10,
   "id": "bf7c4262",
   "metadata": {},
   "outputs": [],
   "source": [
    "from json import loads"
   ]
  },
  {
   "cell_type": "code",
   "execution_count": 19,
   "id": "5a3786aa",
   "metadata": {},
   "outputs": [],
   "source": [
    "def top_10_users(data_path):\n",
    "\n",
    "    users = {}\n",
    "\n",
    "    with open(data_path, \"r\", encoding=\"utf-8\") as tf:\n",
    "        \n",
    "        current_line = tf.readline()\n",
    "\n",
    "        while current_line:\n",
    "\n",
    "            line_obj = loads(current_line.strip())\n",
    "\n",
    "            tweet_user = line_obj[\"user\"]\n",
    "\n",
    "            try:\n",
    "                users[tweet_user[\"username\"]][\"tweet_count\"] += 1\n",
    "            except KeyError:\n",
    "                users[tweet_user[\"username\"]] = {\"user\": tweet_user, \"tweet_count\": 1}\n",
    "\n",
    "            current_line = tf.readline()\n",
    "\n",
    "    top_10_users = []\n",
    "    min_tweets_in_list = float(\"inf\")\n",
    "    min_position = -1\n",
    "\n",
    "    for user in users.values():\n",
    "\n",
    "        if len(top_10_users) < 10:\n",
    "            top_10_users.append(user)\n",
    "            \n",
    "            if user[\"tweet_count\"] < min_tweets_in_list:\n",
    "                min_position = len(top_10_users) - 1\n",
    "                min_tweets_in_list = user[\"tweet_count\"]\n",
    "        \n",
    "        elif user[\"tweet_count\"] > min_tweets_in_list:\n",
    "            top_10_users[min_position] = user\n",
    "\n",
    "            new_min_user = min(top_10_users, key=lambda x: x[\"tweet_count\"])\n",
    "            min_tweets_in_list = new_min_user[\"tweet_count\"]\n",
    "            min_position = top_10_users.index(new_min_user)\n",
    "    \n",
    "    top_10_users.sort(key=lambda x: x[\"tweet_count\"], reverse=True)\n",
    "\n",
    "    return [user[\"user\"] for user in top_10_users]"
   ]
  },
  {
   "cell_type": "code",
   "execution_count": 14,
   "id": "4eb14ded",
   "metadata": {},
   "outputs": [],
   "source": [
    "def top_10_retweeted(data_path):\n",
    "\n",
    "    top_10_tweets = []\n",
    "\n",
    "    with open(data_path, \"r\", encoding=\"utf-8\") as tf:\n",
    "\n",
    "        min_retweet_in_list = float(\"inf\")\n",
    "        min_position = -1\n",
    "\n",
    "        current_line = tf.readline()\n",
    "        i = 1\n",
    "        while current_line:\n",
    "\n",
    "            line_obj = loads(current_line.strip())\n",
    "\n",
    "            if len(top_10_tweets) < 10:\n",
    "                top_10_tweets.append(line_obj)\n",
    "\n",
    "                if line_obj[\"retweetCount\"] < min_retweet_in_list:\n",
    "                    min_position = len(top_10_tweets) - 1\n",
    "                    min_retweet_in_list = line_obj[\"retweetCount\"]\n",
    "            \n",
    "            elif line_obj[\"retweetCount\"] > min_retweet_in_list:\n",
    "                top_10_tweets[min_position] = line_obj\n",
    "\n",
    "                new_min_obj = min(top_10_tweets, key=lambda x: x[\"retweetCount\"])\n",
    "                min_retweet_in_list = new_min_obj[\"retweetCount\"]\n",
    "                min_position = top_10_tweets.index(new_min_obj)\n",
    "            \n",
    "            current_line = tf.readline()\n",
    "            i += 1\n",
    "    \n",
    "    top_10_tweets.sort(key=lambda x: x[\"retweetCount\"], reverse=True)\n",
    "\n",
    "    return top_10_tweets\n",
    "                "
   ]
  },
  {
   "cell_type": "code",
   "execution_count": null,
   "id": "6054fe87",
   "metadata": {},
   "outputs": [],
   "source": [
    "def top_10_days(data_path):\n",
    "\n",
    "    dates = {}\n",
    "\n",
    "    with open(data_path, \"r\", encoding=\"utf-8\") as tf:\n",
    "\n",
    "        current_line = tf.readline()\n",
    "\n",
    "        while current_line:\n",
    "\n",
    "            line_obj = loads(current_line.strip())\n",
    "\n",
    "            tweet_timestamp = line_obj[\"date\"]\n",
    "            date = datetime.fromisoformat(tweet_timestamp)\n",
    "\n",
    "            try:\n",
    "                dates[f\"{date.year}-{date.month}-{date.day}\"] += 1\n",
    "            except KeyError:\n",
    "                dates[f\"{date.year}-{date.month}-{date.day}\"] = 1\n",
    "\n",
    "            current_line = tf.readline()\n",
    "    \n",
    "    top_10_dates = []\n",
    "    min_tweets_in_list = float(\"inf\")\n",
    "    min_position = -1\n",
    "\n",
    "    for date, tweet_count in dates.items():\n",
    "\n",
    "        if len(top_10_dates) < 10:\n",
    "            top_10_dates.append({\"date\": date, \"tweet_count\": tweet_count})\n",
    "\n",
    "            if tweet_count < min_tweets_in_list:\n",
    "                min_position = len(top_10_dates) - 1\n",
    "                min_tweets_in_list = tweet_count\n",
    "        \n",
    "        elif tweet_count > min_tweets_in_list:\n",
    "            top_10_dates[min_position] = {\"date\": date, \"tweet_count\": tweet_count}\n",
    "\n",
    "            new_min_tweet_date = min(top_10_dates, key=lambda x: x[\"tweet_count\"])\n",
    "            min_tweets_in_list = new_min_tweet_date[\"tweet_count\"]\n",
    "            min_position = top_10_dates.index(new_min_tweet_date)\n",
    "    \n",
    "    top_10_dates.sort(key=lambda x: x[\"tweet_count\"], reverse=True)\n",
    "\n",
    "    return [date[\"date\"] for date in top_10_dates]"
   ]
  },
  {
   "cell_type": "code",
   "execution_count": 12,
   "id": "1190ad4c",
   "metadata": {},
   "outputs": [],
   "source": [
    "def main():\n",
    "\n",
    "    data_path = \"./farmers-protest-tweets-2021-03-5.json\"\n",
    "\n",
    "    top_retweets = top_10_retweeted(data_path)\n",
    "\n",
    "    print([tweet[\"retweetCount\"] for tweet in top_retweets])"
   ]
  },
  {
   "cell_type": "code",
   "execution_count": 15,
   "id": "b2a9509c",
   "metadata": {},
   "outputs": [
    {
     "name": "stdout",
     "output_type": "stream",
     "text": [
      "[315547, 103957, 67694, 35921, 26972, 23251, 20132, 18744, 17368, 15677]\n"
     ]
    }
   ],
   "source": [
    "main()"
   ]
  },
  {
   "cell_type": "code",
   "execution_count": null,
   "id": "358c6827",
   "metadata": {},
   "outputs": [],
   "source": []
  }
 ],
 "metadata": {
  "interpreter": {
   "hash": "882f80fb064621d74050e0c5648ae9ff0c48f38b22ee06a11bb1e386e94dd268"
  },
  "kernelspec": {
   "display_name": "Python 3 (ipykernel)",
   "language": "python",
   "name": "python3"
  },
  "language_info": {
   "codemirror_mode": {
    "name": "ipython",
    "version": 3
   },
   "file_extension": ".py",
   "mimetype": "text/x-python",
   "name": "python",
   "nbconvert_exporter": "python",
   "pygments_lexer": "ipython3",
   "version": "3.9.7"
  }
 },
 "nbformat": 4,
 "nbformat_minor": 5
}
