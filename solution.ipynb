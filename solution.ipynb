{
 "cells": [
  {
   "cell_type": "code",
   "execution_count": 18,
   "id": "58ba9bfc",
   "metadata": {},
   "outputs": [],
   "source": [
    "from json import loads"
   ]
  },
  {
   "cell_type": "code",
   "execution_count": 19,
   "id": "5a3786aa",
   "metadata": {},
   "outputs": [],
   "source": [
    "def top_10_users(data_path):\n",
    "\n",
    "    users = {}\n",
    "\n",
    "    with open(data_path, \"r\", encoding=\"utf-8\") as tf:\n",
    "        \n",
    "        current_line = tf.readline()\n",
    "\n",
    "        while current_line:\n",
    "\n",
    "            line_obj = loads(current_line.strip())\n",
    "\n",
    "            tweet_user = line_obj[\"user\"]\n",
    "\n",
    "            try:\n",
    "                users[tweet_user[\"username\"]][\"tweet_count\"] += 1\n",
    "            except KeyError:\n",
    "                users[tweet_user[\"username\"]] = {\"user\": tweet_user, \"tweet_count\": 1}\n",
    "\n",
    "            current_line = tf.readline()\n",
    "\n",
    "    top_10_users = []\n",
    "    min_tweets_in_list = float(\"inf\")\n",
    "    min_position = -1\n",
    "\n",
    "    for user in users.values():\n",
    "\n",
    "        if len(top_10_users) < 10:\n",
    "            top_10_users.append(user)\n",
    "            \n",
    "            if user[\"tweet_count\"] < min_tweets_in_list:\n",
    "                min_position = len(top_10_users) - 1\n",
    "                min_tweets_in_list = user[\"tweet_count\"]\n",
    "        \n",
    "        elif user[\"tweet_count\"] > min_tweets_in_list:\n",
    "            top_10_users[min_position] = user\n",
    "\n",
    "            new_min_user = min(top_10_users, key=lambda x: x[\"tweet_count\"])\n",
    "            min_tweets_in_list = new_min_user[\"tweet_count\"]\n",
    "            min_position = top_10_users.index(new_min_user)\n",
    "    \n",
    "    top_10_users.sort(key=lambda x: x[\"tweet_count\"], reverse=True)\n",
    "\n",
    "    return [user[\"user\"] for user in top_10_users]"
   ]
  },
  {
   "cell_type": "code",
   "execution_count": 22,
   "id": "e5c20d0e",
   "metadata": {},
   "outputs": [],
   "source": [
    "def main():\n",
    "\n",
    "    data_path = \"./farmers-protest-tweets-2021-03-5.json\"\n",
    "\n",
    "    top_users = top_10_users(data_path)\n",
    "\n",
    "    print([user[\"username\"] for user in top_users])"
   ]
  },
  {
   "cell_type": "code",
   "execution_count": 23,
   "id": "bcfc17c8",
   "metadata": {},
   "outputs": [
    {
     "name": "stdout",
     "output_type": "stream",
     "text": [
      "['harjot_tweeting', 'tasveersandhu', 'shells_n_petals', 'jot__b', 'rebelpacifist', 'rumsomal', 'Iamjazzie96', 'Jass_k_G', 'DigitalKisanBot', 'z_khalique007']\n"
     ]
    }
   ],
   "source": [
    "main()"
   ]
  },
  {
   "cell_type": "code",
   "execution_count": null,
   "id": "4a616601",
   "metadata": {},
   "outputs": [],
   "source": []
  }
 ],
 "metadata": {
  "kernelspec": {
   "display_name": "Python 3 (ipykernel)",
   "language": "python",
   "name": "python3"
  },
  "language_info": {
   "codemirror_mode": {
    "name": "ipython",
    "version": 3
   },
   "file_extension": ".py",
   "mimetype": "text/x-python",
   "name": "python",
   "nbconvert_exporter": "python",
   "pygments_lexer": "ipython3",
   "version": "3.9.7"
  }
 },
 "nbformat": 4,
 "nbformat_minor": 5
}
